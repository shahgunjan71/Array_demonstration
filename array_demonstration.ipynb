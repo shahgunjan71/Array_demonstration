{
 "cells": [
  {
   "cell_type": "code",
   "execution_count": 15,
   "metadata": {},
   "outputs": [],
   "source": [
    "import numpy as np\n",
    "\n",
    "# The 1x7 road\n",
    "road = np.array(['r', 'r', 'r', 'r', 'r', 's', 'r'])"
   ]
  },
  {
   "cell_type": "code",
   "execution_count": 16,
   "metadata": {},
   "outputs": [
    {
     "name": "stdout",
     "output_type": "stream",
     "text": [
      "r\n"
     ]
    }
   ],
   "source": [
    "value = road[0]\n",
    "print (value)"
   ]
  },
  {
   "cell_type": "code",
   "execution_count": 17,
   "metadata": {},
   "outputs": [
    {
     "name": "stdout",
     "output_type": "stream",
     "text": [
      "0 r\n",
      "1 r\n",
      "2 r\n",
      "3 r\n",
      "4 r\n",
      "5 s\n",
      "6 r\n"
     ]
    }
   ],
   "source": [
    "length = len(road)\n",
    "for index in range(0, length):\n",
    "    value = road[index]\n",
    "    print (index, value)"
   ]
  },
  {
   "cell_type": "code",
   "execution_count": 20,
   "metadata": {},
   "outputs": [],
   "source": [
    "length = len(road)\n",
    "def find_stop_index(road):\n",
    "    for index in range(0, length):\n",
    "        print(str(index))\n",
    "        if index == 4:\n",
    "            print('We\\'ve reached the middle of the road and we\\'re leaving the loop!')\n",
    "            break\n",
    "    stop_index = 4\n",
    "    \n",
    "    return stop_index"
   ]
  },
  {
   "cell_type": "code",
   "execution_count": 19,
   "metadata": {},
   "outputs": [
    {
     "ename": "ModuleNotFoundError",
     "evalue": "No module named 'array_solution'",
     "output_type": "error",
     "traceback": [
      "\u001b[1;31m---------------------------------------------------------------------------\u001b[0m",
      "\u001b[1;31mModuleNotFoundError\u001b[0m                       Traceback (most recent call last)",
      "\u001b[1;32m<ipython-input-19-d9c697897537>\u001b[0m in \u001b[0;36m<module>\u001b[1;34m\u001b[0m\n\u001b[0;32m      1\u001b[0m \u001b[1;31m# Test code - do not change\u001b[0m\u001b[1;33m\u001b[0m\u001b[1;33m\u001b[0m\u001b[1;33m\u001b[0m\u001b[0m\n\u001b[1;32m----> 2\u001b[1;33m \u001b[1;32mimport\u001b[0m \u001b[0marray_solution\u001b[0m\u001b[1;33m\u001b[0m\u001b[1;33m\u001b[0m\u001b[0m\n\u001b[0m\u001b[0;32m      3\u001b[0m \u001b[1;33m\u001b[0m\u001b[0m\n\u001b[0;32m      4\u001b[0m \u001b[1;31m# This line calls the stop function and stores the output\u001b[0m\u001b[1;33m\u001b[0m\u001b[1;33m\u001b[0m\u001b[1;33m\u001b[0m\u001b[0m\n\u001b[0;32m      5\u001b[0m \u001b[0mstop\u001b[0m \u001b[1;33m=\u001b[0m \u001b[0mfind_stop_index\u001b[0m\u001b[1;33m(\u001b[0m\u001b[0mroad\u001b[0m\u001b[1;33m)\u001b[0m\u001b[1;33m\u001b[0m\u001b[1;33m\u001b[0m\u001b[0m\n",
      "\u001b[1;31mModuleNotFoundError\u001b[0m: No module named 'array_solution'"
     ]
    }
   ],
   "source": [
    "# Test code - do not change\n",
    "import array_solution\n",
    "\n",
    "# This line calls the stop function and stores the output\n",
    "stop = find_stop_index(road)\n",
    "correct_stop = array_solution.stop_test(road)\n",
    "\n",
    "# Assertion, comparison test\n",
    "try:\n",
    "    assert(stop == correct_stop)\n",
    "    print('That\\'s right!')\n",
    "except:\n",
    "    print ('Your code returned that the stop index is: ' +str(stop) \n",
    "           + ', which does not match the correct value: ' +str(correct_stop))\n",
    "\n",
    "# Test 2\n",
    "stop2 = find_stop_index(array_solution.test_road)\n",
    "correct_stop2 = array_solution.stop_test(array_solution.test_road)\n",
    "\n",
    "try:\n",
    "    assert(stop2 == correct_stop2)    \n",
    "    print('You passed the second test!')\n",
    "except:\n",
    "    print ('For test 2, your code returned that the stop index is: ' +str(stop2) \n",
    "           + ', which does not match the correct value.')"
   ]
  },
  {
   "cell_type": "code",
   "execution_count": null,
   "metadata": {},
   "outputs": [],
   "source": []
  }
 ],
 "metadata": {
  "kernelspec": {
   "display_name": "Python 3",
   "language": "python",
   "name": "python3"
  },
  "language_info": {
   "codemirror_mode": {
    "name": "ipython",
    "version": 3
   },
   "file_extension": ".py",
   "mimetype": "text/x-python",
   "name": "python",
   "nbconvert_exporter": "python",
   "pygments_lexer": "ipython3",
   "version": "3.7.6"
  }
 },
 "nbformat": 4,
 "nbformat_minor": 2
}
