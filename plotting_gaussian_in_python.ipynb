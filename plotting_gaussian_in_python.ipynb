{
 "cells": [
  {
   "cell_type": "code",
   "execution_count": 20,
   "metadata": {},
   "outputs": [],
   "source": [
    "import numpy as np\n",
    "x = [29, 45, 48, 50, 62, 78]\n",
    "mu = 10\n",
    "sigma = 5\n",
    "def gaussian_density(x, mu, sigma):\n",
    "    # TODO: Return the probability density function for the\n",
    "    # Gaussian distribution. \n",
    "    return (1/np.sqrt(2*np.pi*np.power(sigma, 2.))) * np.exp(-np.power(x - mu, 2.) / (2 * np.power(sigma, 2.)))"
   ]
  },
  {
   "cell_type": "code",
   "execution_count": 24,
   "metadata": {},
   "outputs": [
    {
     "ename": "SyntaxError",
     "evalue": "'return' outside function (<ipython-input-24-58b73ebc1bf0>, line 5)",
     "output_type": "error",
     "traceback": [
      "\u001b[1;36m  File \u001b[1;32m\"<ipython-input-24-58b73ebc1bf0>\"\u001b[1;36m, line \u001b[1;32m5\u001b[0m\n\u001b[1;33m    return gaussian_density(x, mu, sigma)\u001b[0m\n\u001b[1;37m    ^\u001b[0m\n\u001b[1;31mSyntaxError\u001b[0m\u001b[1;31m:\u001b[0m 'return' outside function\n"
     ]
    }
   ],
   "source": [
    "x = [29, 45, 48, 50, 62, 78]\n",
    "mu = 10\n",
    "sigma = 5\n",
    "for i in range(0,len(x)):\n",
    "    return gaussian_density(x, mu, sigma)\n"
   ]
  }
 ],
 "metadata": {
  "kernelspec": {
   "display_name": "Python 3",
   "language": "python",
   "name": "python3"
  },
  "language_info": {
   "codemirror_mode": {
    "name": "ipython",
    "version": 3
   },
   "file_extension": ".py",
   "mimetype": "text/x-python",
   "name": "python",
   "nbconvert_exporter": "python",
   "pygments_lexer": "ipython3",
   "version": "3.7.6"
  }
 },
 "nbformat": 4,
 "nbformat_minor": 4
}
