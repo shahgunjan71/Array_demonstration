{
 "cells": [
  {
   "cell_type": "code",
   "execution_count": 3,
   "metadata": {},
   "outputs": [
    {
     "name": "stdout",
     "output_type": "stream",
     "text": [
      "[[8, 0, 16, 0, 7, 0, 14, 0, 12, 0, 24, 0, 5, 0, 10, 0], [0, 8, 0, 16, 0, 7, 0, 14, 0, 12, 0, 24, 0, 5, 0, 10], 12, 5]\n"
     ]
    }
   ],
   "source": [
    "## TODO: Fill in the dotproduct() function to calculate the \n",
    "## dot product of two vectors.\n",
    "##\n",
    "\n",
    "## Here are the inputs and outputs of the dotproduct() function:\n",
    "##     INPUTS: vector, vector\n",
    "##     OUTPUT: dot product of the two vectors\n",
    "##         \n",
    "##\n",
    "## The dot product involves mutliplying the vectors element\n",
    "## by element and then taking the sum of the results\n",
    "##\n",
    "## For example, the dot product of [9, 7, 5] and [2, 3, 4] is \n",
    "## 9*2+7*3 +5*4 = 59\n",
    "## \n",
    "## Hint: You can use a for loop. You will also need to accumulate\n",
    "## the sum as you iterate through the vectors. In Python, you can accumulate \n",
    "## sums with syntax like w = w + 1\n",
    "\n",
    "x2 = []\n",
    "\n",
    "def dotproduct(vectora, vectorb):\n",
    "    \n",
    "    # variable for accumulating the sum\n",
    "    result = []\n",
    "    for i in range(len(vectora)):\n",
    "        for j in range(len(vectorb)):\n",
    "            val = ([vectora[i] * vectorb[j]])\n",
    "            val_sum = sum(val)\n",
    "            result.append(val_sum)\n",
    "        \n",
    "    # TODO: Use a for loop to multiply the two vectors\n",
    "    # element by element. Accumulate the sum in the result variable\n",
    "    \n",
    "    \n",
    "    return result\n",
    "    \n",
    "x2 = [dotproduct([8, 7, 12, 5], [1, 0, 2, 0]), \n",
    "      dotproduct([8, 7, 12, 5], [0, 1, 0, 2]),\n",
    "      12,\n",
    "      5]\n",
    "print (str(x2))"
   ]
  },
  {
   "cell_type": "code",
   "execution_count": 4,
   "metadata": {},
   "outputs": [
    {
     "ename": "AssertionError",
     "evalue": "",
     "output_type": "error",
     "traceback": [
      "\u001b[1;31m---------------------------------------------------------------------------\u001b[0m",
      "\u001b[1;31mAssertionError\u001b[0m                            Traceback (most recent call last)",
      "\u001b[1;32m<ipython-input-4-64b3f5618758>\u001b[0m in \u001b[0;36m<module>\u001b[1;34m\u001b[0m\n\u001b[0;32m      2\u001b[0m \u001b[1;31m### Run this test case to see if your results are as expected\u001b[0m\u001b[1;33m\u001b[0m\u001b[1;33m\u001b[0m\u001b[1;33m\u001b[0m\u001b[0m\n\u001b[0;32m      3\u001b[0m \u001b[1;31m### Running this cell should produce no output if all assertions are True\u001b[0m\u001b[1;33m\u001b[0m\u001b[1;33m\u001b[0m\u001b[1;33m\u001b[0m\u001b[0m\n\u001b[1;32m----> 4\u001b[1;33m \u001b[1;32massert\u001b[0m \u001b[0mx2\u001b[0m \u001b[1;33m==\u001b[0m \u001b[1;33m[\u001b[0m\u001b[1;36m32\u001b[0m\u001b[1;33m,\u001b[0m \u001b[1;36m17\u001b[0m\u001b[1;33m,\u001b[0m \u001b[1;36m12\u001b[0m\u001b[1;33m,\u001b[0m \u001b[1;36m5\u001b[0m\u001b[1;33m]\u001b[0m\u001b[1;33m\u001b[0m\u001b[1;33m\u001b[0m\u001b[0m\n\u001b[0m",
      "\u001b[1;31mAssertionError\u001b[0m: "
     ]
    }
   ],
   "source": [
    "### Test Case\n",
    "### Run this test case to see if your results are as expected\n",
    "### Running this cell should produce no output if all assertions are True\n",
    "assert x2 == [32, 17, 12, 5]"
   ]
  }
 ],
 "metadata": {
  "kernelspec": {
   "display_name": "Python 3",
   "language": "python",
   "name": "python3"
  },
  "language_info": {
   "codemirror_mode": {
    "name": "ipython",
    "version": 3
   },
   "file_extension": ".py",
   "mimetype": "text/x-python",
   "name": "python",
   "nbconvert_exporter": "python",
   "pygments_lexer": "ipython3",
   "version": "3.7.6"
  }
 },
 "nbformat": 4,
 "nbformat_minor": 4
}
